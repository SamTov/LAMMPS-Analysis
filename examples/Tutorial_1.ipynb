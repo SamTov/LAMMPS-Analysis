{
 "cells": [
  {
   "cell_type": "markdown",
   "metadata": {},
   "source": [
    "# Tutorial 1: The Basics\n",
    "\n",
    "In this tutorial, we will go through a guided example of how to generate a new database for your MD simulation."
   ]
  },
  {
   "cell_type": "markdown",
   "metadata": {},
   "source": [
    "The first step is to import the necessary packages. For this tutorial, we will only be using the data processing capabilities of the class, as well as some simple os functionality to show the existence of new files, therefore, only the mdsuite and os packages are required."
   ]
  },
  {
   "cell_type": "code",
   "execution_count": 1,
   "metadata": {},
   "outputs": [],
   "source": [
    "import mdsuite as mds # Cool name for professionalism purposes\n",
    "import os"
   ]
  },
  {
   "cell_type": "markdown",
   "metadata": {},
   "source": [
    "The workhorse of the mdsuite package is the trajectory class. We have to make an instance of this class for each system we wish to study. In this tutorial, we will look at the two noble gas systems, argon and krypton. In the case of these simulations, both systems are in their liquid state. Note that if you run this program in terminal, or if you have your jupyter set up better than mine, a progress bar will render in the notebook to give you an estimate of the time left in the database construction."
   ]
  },
  {
   "cell_type": "code",
   "execution_count": 2,
   "metadata": {},
   "outputs": [
    {
     "name": "stderr",
     "output_type": "stream",
     "text": [
      "\r",
      "  0%|          | 0/5 [00:00<?, ?it/s]"
     ]
    },
    {
     "name": "stdout",
     "output_type": "stream",
     "text": [
      "Beginning Build database\n"
     ]
    },
    {
     "name": "stderr",
     "output_type": "stream",
     "text": [
      "100%|██████████| 5/5 [00:05<00:00,  1.02s/it]\n",
      "  0%|          | 0/5 [00:00<?, ?it/s]"
     ]
    },
    {
     "name": "stdout",
     "output_type": "stream",
     "text": [
      "\n",
      " ** Database has been constructed and saved for argon_85K ** \n",
      "\n",
      "Beginning Build database\n"
     ]
    },
    {
     "name": "stderr",
     "output_type": "stream",
     "text": [
      "100%|██████████| 5/5 [00:04<00:00,  1.01it/s]\n"
     ]
    },
    {
     "name": "stdout",
     "output_type": "stream",
     "text": [
      "\n",
      " ** Database has been constructed and saved for krypton_85K ** \n",
      "\n"
     ]
    }
   ],
   "source": [
    "argon_85K = mds.Experiment(analysis_name=\"argon_85K\", \n",
    "                           new_project=True,\n",
    "                          storage_path=\".\",\n",
    "                          temperature=85.0,\n",
    "                          time_step=0.002,\n",
    "                          time_unit=1e-12,\n",
    "                          filename=\"trajectory_files/Ar_85K.dump\",\n",
    "                          length_unit=1e-10)\n",
    "krypton_85K = mds.Experiment(analysis_name=\"krypton_85K\", \n",
    "                           new_project=True,\n",
    "                          storage_path=\".\",\n",
    "                          temperature=85.0,\n",
    "                          time_step=0.002,\n",
    "                          time_unit=1e-12,\n",
    "                          filename=\"trajectory_files/Kr_85K.dump\",\n",
    "                          length_unit=1e-10)"
   ]
  },
  {
   "cell_type": "markdown",
   "metadata": {},
   "source": [
    "In order to break down what has happened, I will discuss in brief what each of these attributes are and how to input them.\n",
    "\n",
    "* **analysis_name:** This is the name of the project that has been created. The directory that the program has just created, along with the hdf5 database, will share this name. This is always required, whether it is a new project, or you are loading an old one\n",
    "* **new_project:** If this is set to False, the program will attempt to load a class instance and database with the analysis name. If True, a new database will be created.\n",
    "* **storage_path:** For bigger projects, you may wish to store the database and files on a different drive. This allows you to choose where you wish to store the files. It is always required for new projects and old.\n",
    "* **temperature:** Temperature of the system. If the temperature changes during the simulation, give it the initial, or average temperature. This parameter is currently only used on the conductivity calculations, therefore, it isn't necessary for much of the analysis\n",
    "* **time_step:** Give the time step of the simulation. This will allow the class to accurately model the time\n",
    "* **length_unit:** The unit of length (pm, um, angstrom)\n",
    "* **filename:** Where the dump file is\n",
    "* **time_unit:** Unit of time (ps, ns, us)\n",
    "\n",
    "Note, if the project is to be loaded, all that is required is the storage_path, analysis_name, and new_project=False attributes. The rest need not be included as the class state will be loaded\n",
    "\n",
    "So let's looks now at the directory"
   ]
  },
  {
   "cell_type": "code",
   "execution_count": 3,
   "metadata": {},
   "outputs": [
    {
     "name": "stdout",
     "output_type": "stream",
     "text": [
      "lammps_scripts\n",
      "\n",
      "trajectory_files\n",
      "\n",
      "Tutorial_1.ipynb\n",
      "\n",
      "Tutorial_2.ipynb\n",
      "\n",
      "__pycache__\n",
      "\n",
      ".ipynb_checkpoints\n",
      "\n",
      "uwrap_test.extxyz\n",
      "\n",
      "conductivity_thermal\n",
      "\n",
      "MDSuite_Demonstration.html\n",
      "\n",
      "NaCl_1400K\n",
      "\n",
      "EHCond_1400.0.pdf\n",
      "\n",
      "GK_Cond_1400.0.pdf\n",
      "\n",
      "argon_85K\n",
      "\n",
      "krypton_85K\n",
      "\n"
     ]
    }
   ],
   "source": [
    "for item in os.listdir(\".\"):\n",
    "    print(f\"{item}\\n\")"
   ]
  },
  {
   "cell_type": "markdown",
   "metadata": {},
   "source": [
    "There are two new directories now names argon_85K and krypton_85K. Opening one of these directories, we can see what the program has done so far."
   ]
  },
  {
   "cell_type": "code",
   "execution_count": 4,
   "metadata": {},
   "outputs": [
    {
     "name": "stdout",
     "output_type": "stream",
     "text": [
      "argon_85K.hdf5\n",
      "\n",
      "argon_85K.bin\n",
      "\n"
     ]
    }
   ],
   "source": [
    "for item in os.listdir(\"argon_85K\"):\n",
    "    print(f\"{item}\\n\")"
   ]
  },
  {
   "cell_type": "markdown",
   "metadata": {},
   "source": [
    "Two files have been created in the argon directory, one, a hdf5 database, and the other a txt file with the state of the class. Unless you have some specific interest, it is unnecessary to do anything in this directory, as all of the information can be accessed from within the class. For example, one useful method is print_class_attributes, which will print a list of the class attributes that have been calculated during the database construction"
   ]
  },
  {
   "cell_type": "code",
   "execution_count": 5,
   "metadata": {},
   "outputs": [
    {
     "name": "stdout",
     "output_type": "stream",
     "text": [
      "filename: trajectory_files/Ar_85K.dump\n",
      "analysis_name: argon_85K\n",
      "new_project: True\n",
      "filepath: .\n",
      "temperature: 85.0\n",
      "time_step: 0.002\n",
      "time_unit: 1e-12\n",
      "length_unit: 1e-10\n",
      "sample_rate: 20.0\n",
      "batch_size: 1000\n",
      "volume: 5574.383217238844\n",
      "species: {'Ar': {'indices': [9, 10, 11, 12, 13, 14, 15, 16, 17, 18, 19, 20, 21, 22, 23, 24, 25, 26, 27, 28, 29, 30, 31, 32, 33, 34, 35, 36, 37, 38, 39, 40, 41, 42, 43, 44, 45, 46, 47, 48, 49, 50, 51, 52, 53, 54, 55, 56, 57, 58, 59, 60, 61, 62, 63, 64, 65, 66, 67, 68, 69, 70, 71, 72, 73, 74, 75, 76, 77, 78, 79, 80, 81, 82, 83, 84, 85, 86, 87, 88, 89, 90, 91, 92, 93, 94, 95, 96, 97, 98, 99, 100, 101, 102, 103, 104, 105, 106, 107, 108, 109, 110, 111, 112, 113, 114, 115, 116], 'charge': [0], 'mass': [35.9675451, 37.962732, 39.96238312, None]}}\n",
      "number_of_atoms: 108\n",
      "properties: {'x': 3, 'y': 4, 'z': 5, 'vx': 6, 'vy': 7, 'vz': 8, 'fx': 9, 'fy': 10, 'fz': 11}\n",
      "property_groups: {'Positions': [3, 4, 5], 'Velocities': [6, 7, 8], 'Forces': [9, 10, 11]}\n",
      "dimensions: 3\n",
      "box_array: [17.73096097, 17.73096097, 17.73096097]\n",
      "number_of_configurations: 5001\n",
      "time_dimensions: [0.0, 2e-10]\n",
      "diffusion_coefficients: {'Einstein': {'Singular': {}, 'Distinct': {}}, 'Green-Kubo': {'Singular': {}, 'Distinct': {}}}\n",
      "ionic_conductivity: {'Einstein-Helfand': {}, 'Green-Kubo': {}, 'Nernst-Einstein': {'Einstein': None, 'Green-Kubo': None}, 'Corrected Nernst-Einstein': {'Einstein': None, 'Green-Kubo': None}}\n"
     ]
    },
    {
     "data": {
      "text/plain": [
       "[('filename', 'trajectory_files/Ar_85K.dump'),\n",
       " ('analysis_name', 'argon_85K'),\n",
       " ('new_project', True),\n",
       " ('filepath', '.'),\n",
       " ('temperature', 85.0),\n",
       " ('time_step', 0.002),\n",
       " ('time_unit', 1e-12),\n",
       " ('length_unit', 1e-10),\n",
       " ('sample_rate', 20.0),\n",
       " ('batch_size', 1000),\n",
       " ('volume', 5574.383217238844),\n",
       " ('species',\n",
       "  {'Ar': {'charge': [0],\n",
       "    'indices': [9,\n",
       "     10,\n",
       "     11,\n",
       "     12,\n",
       "     13,\n",
       "     14,\n",
       "     15,\n",
       "     16,\n",
       "     17,\n",
       "     18,\n",
       "     19,\n",
       "     20,\n",
       "     21,\n",
       "     22,\n",
       "     23,\n",
       "     24,\n",
       "     25,\n",
       "     26,\n",
       "     27,\n",
       "     28,\n",
       "     29,\n",
       "     30,\n",
       "     31,\n",
       "     32,\n",
       "     33,\n",
       "     34,\n",
       "     35,\n",
       "     36,\n",
       "     37,\n",
       "     38,\n",
       "     39,\n",
       "     40,\n",
       "     41,\n",
       "     42,\n",
       "     43,\n",
       "     44,\n",
       "     45,\n",
       "     46,\n",
       "     47,\n",
       "     48,\n",
       "     49,\n",
       "     50,\n",
       "     51,\n",
       "     52,\n",
       "     53,\n",
       "     54,\n",
       "     55,\n",
       "     56,\n",
       "     57,\n",
       "     58,\n",
       "     59,\n",
       "     60,\n",
       "     61,\n",
       "     62,\n",
       "     63,\n",
       "     64,\n",
       "     65,\n",
       "     66,\n",
       "     67,\n",
       "     68,\n",
       "     69,\n",
       "     70,\n",
       "     71,\n",
       "     72,\n",
       "     73,\n",
       "     74,\n",
       "     75,\n",
       "     76,\n",
       "     77,\n",
       "     78,\n",
       "     79,\n",
       "     80,\n",
       "     81,\n",
       "     82,\n",
       "     83,\n",
       "     84,\n",
       "     85,\n",
       "     86,\n",
       "     87,\n",
       "     88,\n",
       "     89,\n",
       "     90,\n",
       "     91,\n",
       "     92,\n",
       "     93,\n",
       "     94,\n",
       "     95,\n",
       "     96,\n",
       "     97,\n",
       "     98,\n",
       "     99,\n",
       "     100,\n",
       "     101,\n",
       "     102,\n",
       "     103,\n",
       "     104,\n",
       "     105,\n",
       "     106,\n",
       "     107,\n",
       "     108,\n",
       "     109,\n",
       "     110,\n",
       "     111,\n",
       "     112,\n",
       "     113,\n",
       "     114,\n",
       "     115,\n",
       "     116],\n",
       "    'mass': [35.9675451, 37.962732, 39.96238312, None]}}),\n",
       " ('number_of_atoms', 108),\n",
       " ('properties',\n",
       "  {'fx': 9,\n",
       "   'fy': 10,\n",
       "   'fz': 11,\n",
       "   'vx': 6,\n",
       "   'vy': 7,\n",
       "   'vz': 8,\n",
       "   'x': 3,\n",
       "   'y': 4,\n",
       "   'z': 5}),\n",
       " ('property_groups',\n",
       "  {'Forces': [9, 10, 11], 'Positions': [3, 4, 5], 'Velocities': [6, 7, 8]}),\n",
       " ('dimensions', 3),\n",
       " ('box_array', [17.73096097, 17.73096097, 17.73096097]),\n",
       " ('number_of_configurations', 5001),\n",
       " ('time_dimensions', [0.0, 2e-10]),\n",
       " ('diffusion_coefficients',\n",
       "  {'Einstein': {'Distinct': {}, 'Singular': {}},\n",
       "   'Green-Kubo': {'Distinct': {}, 'Singular': {}}}),\n",
       " ('ionic_conductivity',\n",
       "  {'Corrected Nernst-Einstein': {'Einstein': None, 'Green-Kubo': None},\n",
       "   'Einstein-Helfand': {},\n",
       "   'Green-Kubo': {},\n",
       "   'Nernst-Einstein': {'Einstein': None, 'Green-Kubo': None}})]"
      ]
     },
     "execution_count": 5,
     "metadata": {},
     "output_type": "execute_result"
    }
   ],
   "source": [
    "argon_85K.print_class_attributes()"
   ]
  },
  {
   "cell_type": "markdown",
   "metadata": {},
   "source": [
    "So we can see that atom species information, configurations information, property information, volume, box size, and some more time information, has been extracted from the LAMMPS dump. All of this will become helpful in our analysis.\n",
    "\n",
    "So now that we have seen how to prepare a new project, let's look at some analysis that can be done with each, starting with the unwrapping of particle coordinates. Unless LAMMPS has printed unwrapped coordinates for you, this must be done in order to calculate dynamic properties using Einstein methods. Therefore, let's unwrap the coordinates. Note, in principle this is not necessary, if you try to run an Einstein method without Unwrapped coordinates, the program will simply unwrap them for you to make sure it can be run."
   ]
  },
  {
   "cell_type": "code",
   "execution_count": 6,
   "metadata": {},
   "outputs": [
    {
     "name": "stdout",
     "output_type": "stream",
     "text": [
      "\n",
      " --- Beginning to unwrap coordinates --- \n",
      "\n",
      "\n",
      " --- Finished unwrapping coordinates --- \n",
      "\n",
      "\n",
      " --- Beginning to unwrap coordinates --- \n",
      "\n",
      "\n",
      " --- Finished unwrapping coordinates --- \n",
      "\n"
     ]
    }
   ],
   "source": [
    "argon_85K.unwrap_coordinates()\n",
    "krypton_85K.unwrap_coordinates()"
   ]
  },
  {
   "cell_type": "markdown",
   "metadata": {},
   "source": [
    "With the coordinates unwrapped, we can start looking at some interesting physical properties, such as the Einstein self-diffusion coefficients.\n",
    "\n",
    "To do this, we simply call the Einstein_Self_Diffusion method, with the plot argument set to True."
   ]
  },
  {
   "cell_type": "code",
   "execution_count": 7,
   "metadata": {},
   "outputs": [
    {
     "name": "stderr",
     "output_type": "stream",
     "text": [
      "100%|██████████| 108/108 [00:00<00:00, 15536.59it/s]\n"
     ]
    },
    {
     "data": {
      "image/png": "[encoded data removed]",
      "text/plain": [
       "<Figure size 432x288 with 1 Axes>"
      ]
     },
     "metadata": {},
     "output_type": "display_data"
    },
    {
     "name": "stdout",
     "output_type": "stream",
     "text": [
      "Einstein Self-Diffusion Coefficients:\n",
      "\n",
      "Ar: 2.5583106342384364e-09 m^2/s\n",
      "\n"
     ]
    }
   ],
   "source": [
    "argon_85K.einstein_diffusion_coefficients(plot=True)"
   ]
  },
  {
   "cell_type": "markdown",
   "metadata": {},
   "source": [
    "The return of this function, as you can see, is the self-diffusion coefficient for the argon system, as well as a plot of the msd with time.\n",
    "\n",
    "Let's do the same now for krypton and argon to see how they compare"
   ]
  },
  {
   "cell_type": "code",
   "execution_count": 8,
   "metadata": {},
   "outputs": [
    {
     "name": "stderr",
     "output_type": "stream",
     "text": [
      "100%|██████████| 108/108 [00:00<00:00, 15797.20it/s]\n",
      "100%|██████████| 108/108 [00:00<00:00, 15508.93it/s]"
     ]
    },
    {
     "name": "stdout",
     "output_type": "stream",
     "text": [
      "Einstein Self-Diffusion Coefficients:\n",
      "\n",
      "Ar: 2.5583106342384364e-09 m^2/s\n",
      "\n",
      "Einstein Self-Diffusion Coefficients:\n",
      "\n",
      "Kr: -2.655227675862277e-12 m^2/s\n",
      "\n"
     ]
    },
    {
     "name": "stderr",
     "output_type": "stream",
     "text": [
      "\n"
     ]
    }
   ],
   "source": [
    "argon_85K.einstein_diffusion_coefficients()\n",
    "krypton_85K.einstein_diffusion_coefficients()"
   ]
  },
  {
   "cell_type": "markdown",
   "metadata": {},
   "source": [
    "Now we are just looking at the values because the plot argument is set False by default. The Krypton system however, is a perfect example of why this isn't always a good idea. Note the negative diffusion value, this is a little strange. So we look first at the msd to see if we can understand what has gone wrong."
   ]
  },
  {
   "cell_type": "code",
   "execution_count": 9,
   "metadata": {},
   "outputs": [
    {
     "name": "stderr",
     "output_type": "stream",
     "text": [
      "100%|██████████| 108/108 [00:00<00:00, 12896.73it/s]\n"
     ]
    },
    {
     "data": {
      "image/png": "[encoded data removed]",
      "text/plain": [
       "<Figure size 432x288 with 1 Axes>"
      ]
     },
     "metadata": {},
     "output_type": "display_data"
    },
    {
     "name": "stdout",
     "output_type": "stream",
     "text": [
      "Einstein Self-Diffusion Coefficients:\n",
      "\n",
      "Kr: -2.655227675862277e-12 m^2/s\n",
      "\n"
     ]
    }
   ],
   "source": [
    "krypton_85K.einstein_diffusion_coefficients(plot=True)"
   ]
  },
  {
   "cell_type": "markdown",
   "metadata": {},
   "source": [
    "This shows an odd msd for what we assumed was a liquid system. In order to check this we should recall the temperature of the system."
   ]
  },
  {
   "cell_type": "code",
   "execution_count": 10,
   "metadata": {},
   "outputs": [
    {
     "data": {
      "text/plain": [
       "85.0"
      ]
     },
     "execution_count": 10,
     "metadata": {},
     "output_type": "execute_result"
    }
   ],
   "source": [
    "krypton_85K.temperature"
   ]
  },
  {
   "cell_type": "markdown",
   "metadata": {},
   "source": [
    "A quick comparison with literature would tell you that at this temperature, krypton happens to be solid, explaining why these results are being seen. Still, it doesn't mean that nothing is going on in the crystal, as occasionally some diffusion may still occur. For this, we should look at an alternative method, namely, the Green-Kubo approach.\n",
    "\n",
    "We can do this simply here by calling the Green_Kubo_Diffusion_Coefficients method, again, with the plot set equal to True"
   ]
  },
  {
   "cell_type": "code",
   "execution_count": 11,
   "metadata": {},
   "outputs": [
    {
     "name": "stderr",
     "output_type": "stream",
     "text": [
      "100%|██████████| 100/100 [00:06<00:00, 14.56it/s]\n"
     ]
    },
    {
     "data": {
      "image/png": "[encoded data removed]",
      "text/plain": [
       "<Figure size 432x288 with 1 Axes>"
      ]
     },
     "metadata": {},
     "output_type": "display_data"
    },
    {
     "name": "stdout",
     "output_type": "stream",
     "text": [
      "Self-Diffusion Coefficient for Kr at 85.0K: 1.4553891231137077e-11 m^2/s\n"
     ]
    }
   ],
   "source": [
    "krypton_85K.green_kubo_diffusion_coefficients(data_range=4000, plot=True)"
   ]
  },
  {
   "cell_type": "markdown",
   "metadata": {},
   "source": [
    "You will note that this analysis takes a little longer. This is due not to the algorithm being implemented, but rather the error analysis being performed. By selecting a sample of the data, say 4000 points, we can sample the autocorrelation function at various parts of the trajectory, thus allowing us to the calculate an error for the diffusion coefficients. It is this repetition which takes a long time. In a future release, we will implement a means to calculate the correlation time of your data, and both improve the sampling time of this algorithm, but ensure truly decorrelated and accurate error calculations.\n",
    "\n",
    "So now we can see a little better the results of this analysis. There may indeed be some minor diffusion through the bulk but is is at an extremely slow rate. In reality, one shouldn't use this method of analysis to study solid state diffusion, rather a more detailed study of single atoms should be performed. In principle, this can be done by changing some of the code in this package quite trivially, but you should contact me if this becomes necessary."
   ]
  }
 ],
 "metadata": {
  "kernelspec": {
   "display_name": "Python 3",
   "language": "python",
   "name": "python3"
  },
  "language_info": {
   "codemirror_mode": {
    "name": "ipython",
    "version": 3
   },
   "file_extension": ".py",
   "mimetype": "text/x-python",
   "name": "python",
   "nbconvert_exporter": "python",
   "pygments_lexer": "ipython3",
   "version": "3.6.9"
  }
 },
 "nbformat": 4,
 "nbformat_minor": 2
}
