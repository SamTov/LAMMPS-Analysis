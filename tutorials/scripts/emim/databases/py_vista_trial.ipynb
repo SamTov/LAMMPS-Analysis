{
 "cells": [
  {
   "cell_type": "code",
   "execution_count": 1,
   "metadata": {},
   "outputs": [],
   "source": [
    "import h5py as hf\n",
    "import numpy as np\n",
    "#import tensorflow as tf\n",
    "import pyvista as pv\n",
    "import pyvistaqt as pvqt\n",
    "import time\n",
    "from threading import Thread"
   ]
  },
  {
   "cell_type": "code",
   "execution_count": 2,
   "metadata": {},
   "outputs": [],
   "source": [
    "db = hf.File('database.hdf5', 'r')\n",
    "data_C = np.array(db['C']['Positions'])\n",
    "data_H = np.array(db['H']['Positions'])\n",
    "data_N = np.array(db['N']['Positions'])\n",
    "data_F = np.array(db['F']['Positions'])\n",
    "db.close()"
   ]
  },
  {
   "cell_type": "code",
   "execution_count": 3,
   "metadata": {},
   "outputs": [],
   "source": [
    "class TrajectoryVisualizer:\n",
    "    \"\"\"\n",
    "    Class for visualizing trajectories of atoms.\n",
    "    \"\"\"\n",
    "    def __init__(self):\n",
    "        self.data_dictionary = {}\n",
    "        \n",
    "        self.plotter: pvqt.BackgroundPlotter\n",
    "        \n",
    "    def _prepare_canvas(self):\n",
    "        \"\"\"\n",
    "        Prepare the pyqt canvas.\n",
    "        \"\"\"\n",
    "        self.plotter = pvqt.BackgroundPlotter(notebook=True)\n",
    "        #self.plotter = pv.Plotter()\n",
    "        \n",
    "    def _update_positions(self, start: int, stop: int):\n",
    "        \"\"\"\n",
    "        Update positions\n",
    "        \"\"\"\n",
    "        for item in self.data_dictionary:\n",
    "            position_tensor = self.data_dictionary[item]['tensor'][:, stop]\n",
    "            for i, sphere in enumerate(self.data_dictionary[item]['spheres']):\n",
    "                self.plotter.update_coordinates(position_tensor[i], sphere)\n",
    "        #self.plotter.update()\n",
    "    \n",
    "    def _construct_spheres(self):\n",
    "        \"\"\"\n",
    "        Construct the sphere objects\n",
    "        \"\"\"\n",
    "        for item in self.data_dictionary:\n",
    "            self.data_dictionary[item]['spheres'] = []\n",
    "            radius = self.data_dictionary[item]['mass']\n",
    "            for atom in self.data_dictionary[item]['tensor']:\n",
    "                self.data_dictionary[item]['spheres'].append(pv.Sphere(radius=radius, center=atom[0]))\n",
    "    \n",
    "    def _draw_spheres(self):\n",
    "        \"\"\"\n",
    "        draw the spheres on the canvas.\n",
    "        \"\"\"\n",
    "        for item in self.data_dictionary:\n",
    "            colour = self.data_dictionary[item]['colour']\n",
    "            for sphere in self.data_dictionary[item]['spheres']:\n",
    "                self.plotter.add_mesh(sphere, lighting=False, show_edges=False, color=colour)\n",
    "    \n",
    "    def _loop_configurations(self, start=1):\n",
    "        \"\"\"\n",
    "        Loop over configurations until end or interrupted.\n",
    "        \"\"\"\n",
    "        if start == 0:\n",
    "            start = 1\n",
    "        species = list(self.data_dictionary)\n",
    "        loop_range = int(len(self.data_dictionary[species[0]]['tensor'][start:]) - 1)\n",
    "        for i in range(start, loop_range):\n",
    "            self._update_positions(start=i-1, stop=i)\n",
    "            \n",
    "        \n",
    "                \n",
    "    def run_visualization(self):\n",
    "        \"\"\"\n",
    "        Run a visualization and hold open for inputs.\n",
    "        \"\"\"\n",
    "        self._prepare_canvas()\n",
    "        self._construct_spheres()\n",
    "        self._draw_spheres()\n",
    "        thread = Thread(target=self._loop_configurations())\n",
    "        thread.start()\n",
    "        \n",
    "        "
   ]
  },
  {
   "cell_type": "code",
   "execution_count": 4,
   "metadata": {},
   "outputs": [],
   "source": [
    "vis = TrajectoryVisualizer()\n",
    "vis.data_dictionary = {'C': {'tensor': data_C, 'mass': 1.0, 'colour': 'black'},\n",
    "                       'N': {'tensor': data_N, 'mass': 0.7, 'colour': 'red'},\n",
    "                       'H': {'tensor': data_H, 'mass': 0.2, 'colour': 'white'},\n",
    "                       'F': {'tensor': data_F, 'mass': 0.5, 'colour': 'green'}\n",
    "                      }"
   ]
  },
  {
   "cell_type": "code",
   "execution_count": null,
   "metadata": {},
   "outputs": [],
   "source": [
    "vis.run_visualization()"
   ]
  }
 ],
 "metadata": {
  "kernelspec": {
   "display_name": "Python 3",
   "language": "python",
   "name": "python3"
  },
  "language_info": {
   "codemirror_mode": {
    "name": "ipython",
    "version": 3
   },
   "file_extension": ".py",
   "mimetype": "text/x-python",
   "name": "python",
   "nbconvert_exporter": "python",
   "pygments_lexer": "ipython3",
   "version": "3.8.5"
  }
 },
 "nbformat": 4,
 "nbformat_minor": 4
}
