{
 "cells": [
  {
   "cell_type": "markdown",
   "metadata": {},
   "source": [
    "# MDSuite Binary Salt Walkthrough\n",
    "\n",
    "In this tutorial, we will use the mdsuite post-processing\n",
    "package to analyse a molten salt simulation. This should\n",
    "give user the general idea of how to use the program as \n",
    "well as showcase the features of the code"
   ]
  },
  {
   "cell_type": "markdown",
   "metadata": {},
   "source": [
    "### Step 0 - Import the package\n",
    "\n",
    "The absolute first thing we have to is import the package. We call this\n",
    "step zero as it hardly counts as doing anything, but is at the same \n",
    "time, the most essential part of the analysis..."
   ]
  },
  {
   "cell_type": "code",
   "execution_count": 1,
   "metadata": {},
   "outputs": [],
   "source": [
    "import mdsuite as mds  # Import the mdsuite python package"
   ]
  },
  {
   "cell_type": "markdown",
   "metadata": {},
   "source": [
    "### Step 1 - Create a new project\n",
    "\n",
    "The first real thing we have to do is create a project. This is where all \n",
    "of your experiments will be kept in the future, so make it memorable"
   ]
  },
  {
   "cell_type": "code",
   "execution_count": 2,
   "metadata": {},
   "outputs": [
    {
     "name": "stdout",
     "output_type": "stream",
     "text": [
      "Loading the class state\n",
      "List of available experiments\n",
      "0.) NaCl_1400K\n"
     ]
    }
   ],
   "source": [
    "Molten_NaCl = mds.Project(name=\"Molten_NaCl\", storage_path=\"./\")  "
   ]
  },
  {
   "cell_type": "markdown",
   "metadata": {},
   "source": [
    "### Step 1.5 - Give it a description\n",
    "\n",
    "Another great thing to do before you get into the analysis is to give\n",
    "the project a short description. This can be done by calling the \n",
    "add_description method and will be stored with the class state. It may \n",
    "help the weary scientist who can't remember exactly why they have started\n",
    "stuyding molten salts, but knew at the time there was a good reason... As \n",
    "are the effects of Uranium poisening"
   ]
  },
  {
   "cell_type": "code",
   "execution_count": 3,
   "metadata": {},
   "outputs": [],
   "source": [
    "Molten_NaCl.add_description(\"Best project ever!\")   "
   ]
  },
  {
   "cell_type": "markdown",
   "metadata": {},
   "source": [
    "### Step 2 - Add an experiment\n",
    "\n",
    "With the technicalities out of the way, let's get into the meat, \n",
    "or meat subsitute if that's your thing. We need to start adding\n",
    "some data to this project. We structure this data in terms of \n",
    "experiments, just as we would in any scientific project"
   ]
  },
  {
   "cell_type": "code",
   "execution_count": null,
   "metadata": {},
   "outputs": [],
   "source": [
    "Molten_NaCl.add_experiment(experiment_name=\"NaCl_1400K\", \n",
    "                            timestep=0.002, \n",
    "                            temperature=1400.0, \n",
    "                            units='metal')"
   ]
  },
  {
   "cell_type": "markdown",
   "metadata": {},
   "source": [
    "### Step 2.5 - A closer look\n",
    "\n",
    "Yes it's a rip off of Seth Meyers but the phrase cannot be exclusive.\n",
    "\n",
    "What has actually just been achieved is that you have added an experiment\n",
    "to your project. This instantiated a class called the Experiment class. Now, \n",
    "you will want access to this class in order to perform analysis on that experiment.\n",
    "First, let's look at where it has been stored, we do so by looking at the experiments\n",
    "attribute of our Project class"
   ]
  },
  {
   "cell_type": "code",
   "execution_count": null,
   "metadata": {},
   "outputs": [],
   "source": [
    "Molten_NaCl.experiments"
   ]
  },
  {
   "cell_type": "markdown",
   "metadata": {},
   "source": [
    "I know what you're thinking, this looks nothing like my 2 ns simulation of molten NaCl at 1400K in an NVT ensemble. You are correct, so instead of looking directly at guts of the program, why not purely focus on the shiny exterior and run the list_experiments method."
   ]
  },
  {
   "cell_type": "code",
   "execution_count": null,
   "metadata": {},
   "outputs": [],
   "source": [
    "Molten_NaCl.list_experiments()  # List the available experiments"
   ]
  },
  {
   "cell_type": "markdown",
   "metadata": {},
   "source": [
    "What can been seen here is an index number, and the name of the experiment. If you want to access the experiment, you need to select it from the project. There are three ways to do this so we will demonstrate them all, however, we recommend the first as it is easier to keep track of."
   ]
  },
  {
   "cell_type": "code",
   "execution_count": null,
   "metadata": {},
   "outputs": [],
   "source": [
    "NaCl_1400K = Molten_NaCl.experiments['NaCl_1400K']  # The nice way\n",
    "NaCl_1400K.analysis_nameEm"
   ]
  },
  {
   "cell_type": "code",
   "execution_count": null,
   "metadata": {},
   "outputs": [],
   "source": [
    "Molten_NaCl.experiments['NaCl_1400K'].analysis_name  # Maybe less code bu not as simple"
   ]
  },
  {
   "cell_type": "code",
   "execution_count": null,
   "metadata": {},
   "outputs": [],
   "source": [
    "experiment_list = list(Molten_NaCl.experiments)\n",
    "NaCl_1400K = Molten_NaCl.experiments[experiment_list[0]]  # Can be useful if you want to iterate over experiments\n",
    "NaCl_1400K.analysis_name"
   ]
  },
  {
   "cell_type": "markdown",
   "metadata": {},
   "source": [
    "As we said, these ways all achieve the same goal, but each should be used under different circumstances. For performing analysis or reading the information of a specific experiment, we would recommend the first approach as it is easier to keep track of the experiment you are looking at. If you want to save code or are generating a summary, it may not be necessary to declare a variable referencing this class, so use the second method.If you want to run an analyis on several experiment, then you may wish to go for the third as it is easier to loop over, but we will get to that a bit later."
   ]
  },
  {
   "cell_type": "markdown",
   "metadata": {},
   "source": [
    "### Step 3 Adding Simulation Data\n",
    "\n",
    "So you have started your project up and you want to add some real trajectory data to it. We do this by accessing the experiment directly and performing calculations on it. The first thing you have to do is add some data. This is perfomed by the add_data method of the experiment class"
   ]
  },
  {
   "cell_type": "code",
   "execution_count": 5,
   "metadata": {},
   "outputs": [],
   "source": [
    "NaCl_1400K = Molten_NaCl.experiments['NaCl_1400K']  # Get the experiment from the project"
   ]
  },
  {
   "cell_type": "code",
   "execution_count": null,
   "metadata": {},
   "outputs": [],
   "source": [
    "NaCl_1400K.add_data(trajectory_file='trajectory_files/NaCl_1400K.dump')  # Add data to the experiment"
   ]
  },
  {
   "cell_type": "markdown",
   "metadata": {},
   "source": [
    "### Step 4: Performing Analysis\n",
    "\n",
    "Now that you have some data in one of the experiments, you can start performing analysis on it. Let's start with the einstein diffusion coefficints."
   ]
  },
  {
   "cell_type": "code",
   "execution_count": 6,
   "metadata": {},
   "outputs": [
    {
     "name": "stderr",
     "output_type": "stream",
     "text": [
      "100%|█████████████████████████████████████████████████████████████████| 2/2 [00:00<00:00, 19.54it/s]\n",
      "100%|████████████████████████████████████████████████████████████████| 2/2 [00:00<00:00, 151.78it/s]\n"
     ]
    },
    {
     "data": {
      "image/png": "[encoded data removed]",
      "text/plain": [
       "<Figure size 432x288 with 1 Axes>"
      ]
     },
     "metadata": {
      "needs_background": "light"
     },
     "output_type": "display_data"
    }
   ],
   "source": [
    "NaCl_1400K.einstein_diffusion_coefficients(plot=True, data_range=10)"
   ]
  },
  {
   "cell_type": "markdown",
   "metadata": {},
   "source": [
    "Of course, we want to know the outcome of these calculations and so we should print the results"
   ]
  },
  {
   "cell_type": "code",
   "execution_count": null,
   "metadata": {},
   "outputs": [],
   "source": [
    "NaCl_1400K.diffusion_coefficients['Einstein']['Singular']"
   ]
  },
  {
   "cell_type": "code",
   "execution_count": null,
   "metadata": {},
   "outputs": [],
   "source": []
  }
 ],
 "metadata": {
  "kernelspec": {
   "display_name": "Python 3",
   "language": "python",
   "name": "python3"
  },
  "language_info": {
   "codemirror_mode": {
    "name": "ipython",
    "version": 3
   },
   "file_extension": ".py",
   "mimetype": "text/x-python",
   "name": "python",
   "nbconvert_exporter": "python",
   "pygments_lexer": "ipython3",
   "version": "3.8.5"
  }
 },
 "nbformat": 4,
 "nbformat_minor": 2
}
